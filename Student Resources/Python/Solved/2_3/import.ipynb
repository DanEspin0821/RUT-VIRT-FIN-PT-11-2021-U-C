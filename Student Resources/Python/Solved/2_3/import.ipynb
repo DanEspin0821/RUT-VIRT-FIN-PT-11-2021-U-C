{
 "cells": [
  {
   "cell_type": "code",
   "execution_count": 1,
   "id": "87b5bf8f-d252-4233-bf6a-a1f50c91a63b",
   "metadata": {},
   "outputs": [
    {
     "name": "stdout",
     "output_type": "stream",
     "text": [
      "hello!\n"
     ]
    }
   ],
   "source": [
    "import functions \n",
    "functions.print_hello()"
   ]
  },
  {
   "cell_type": "code",
   "execution_count": 2,
   "id": "33b78abd-3af2-4335-9425-9e957e95d52c",
   "metadata": {},
   "outputs": [],
   "source": [
    "import numpy \n",
    "import numpy_financial as npf "
   ]
  },
  {
   "cell_type": "code",
   "execution_count": 3,
   "id": "81c15dd8-0cc8-46bf-a8bd-02fce3260d3f",
   "metadata": {},
   "outputs": [],
   "source": [
    "# Initialize variables\n",
    "interest_rate = .1\n",
    "cash_flows = [-1000, 400, 400, 400, 400]"
   ]
  },
  {
   "cell_type": "code",
   "execution_count": 4,
   "id": "6cf0d050-d7e6-4beb-b443-80a70613e486",
   "metadata": {},
   "outputs": [
    {
     "name": "stdout",
     "output_type": "stream",
     "text": [
      "NPV = 267.94617853971704\n"
     ]
    }
   ],
   "source": [
    "# Call the NPV function from the NumPy Financial library\n",
    "net_present_value = npf.npv(interest_rate, cash_flows)\n",
    "print(f\"NPV = {net_present_value}\")"
   ]
  },
  {
   "cell_type": "code",
   "execution_count": 7,
   "id": "323253f2-fd81-4d20-935c-6a190f0bcdef",
   "metadata": {},
   "outputs": [
    {
     "ename": "AttributeError",
     "evalue": "module 'dave' has no attribute 'print_hello'",
     "output_type": "error",
     "traceback": [
      "\u001b[0;31m---------------------------------------------------------------------------\u001b[0m",
      "\u001b[0;31mAttributeError\u001b[0m                            Traceback (most recent call last)",
      "\u001b[0;32m/var/folders/h0/ckkxq40s70vc524w2v0_myw00000gp/T/ipykernel_25399/2756543777.py\u001b[0m in \u001b[0;36m<module>\u001b[0;34m\u001b[0m\n\u001b[1;32m      1\u001b[0m \u001b[0;32mimport\u001b[0m \u001b[0mdave\u001b[0m\u001b[0;34m\u001b[0m\u001b[0;34m\u001b[0m\u001b[0m\n\u001b[0;32m----> 2\u001b[0;31m \u001b[0mdave\u001b[0m\u001b[0;34m.\u001b[0m\u001b[0mprint_hello\u001b[0m\u001b[0;34m(\u001b[0m\u001b[0;34m)\u001b[0m\u001b[0;34m\u001b[0m\u001b[0;34m\u001b[0m\u001b[0m\n\u001b[0m",
      "\u001b[0;31mAttributeError\u001b[0m: module 'dave' has no attribute 'print_hello'"
     ]
    }
   ],
   "source": [
    "import dave \n",
    "dave.print_hello()"
   ]
  },
  {
   "cell_type": "code",
   "execution_count": null,
   "id": "00e2b84f-9634-404e-95d8-86722f64a05a",
   "metadata": {},
   "outputs": [],
   "source": []
  }
 ],
 "metadata": {
  "kernelspec": {
   "display_name": "Python 3 (ipykernel)",
   "language": "python",
   "name": "python3"
  },
  "language_info": {
   "codemirror_mode": {
    "name": "ipython",
    "version": 3
   },
   "file_extension": ".py",
   "mimetype": "text/x-python",
   "name": "python",
   "nbconvert_exporter": "python",
   "pygments_lexer": "ipython3",
   "version": "3.7.12"
  }
 },
 "nbformat": 4,
 "nbformat_minor": 5
}
