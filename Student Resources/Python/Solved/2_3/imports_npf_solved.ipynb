{
 "cells": [
  {
   "cell_type": "code",
   "execution_count": 1,
   "id": "58faf8b3-5d04-4a44-83d8-30787d40d894",
   "metadata": {},
   "outputs": [],
   "source": [
    "# Import the NumPy Financial library\n",
    "import numpy_financial as npf\n",
    "\n",
    "# Discount Rate\n",
    "discount_rate = .1\n",
    "\n",
    "# Initial Investment, Cash Flow 1, Cash Flow 2, Cash Flow 3, Cash Flow 4\n",
    "cash_flows_conservative = [-1000, 400, 400, 400, 400]\n",
    "cash_flows_neutral = [-1500, 600, 600, 600, 600]\n",
    "cash_flows_aggressive = [-2250, 800, 800, 800, 800]"
   ]
  },
  {
   "cell_type": "code",
   "execution_count": 2,
   "id": "43f7bee3-dfe7-4bd6-ae1d-bc4f01228e2e",
   "metadata": {},
   "outputs": [],
   "source": [
    "# Initialize dictionary to hold NPV return values\n",
    "npv_dict = {}"
   ]
  },
  {
   "cell_type": "code",
   "execution_count": 7,
   "id": "60a2072d-d124-40ab-bb11-a21cf077142e",
   "metadata": {},
   "outputs": [],
   "source": [
    "npv_dict['conservative'] = npf.npv(discount_rate,cash_flows_conservative)\n",
    "npv_dict['neutral'] = npf.npv(discount_rate,cash_flows_neutral)\n",
    "npv_dict['aggressive'] = npf.npv(discount_rate,cash_flows_aggressive)\n",
    "npv_dict['daveiscool'] = 10"
   ]
  },
  {
   "cell_type": "code",
   "execution_count": 8,
   "id": "cba521c3-16ce-4470-8b32-7c372a68eeb5",
   "metadata": {},
   "outputs": [
    {
     "name": "stdout",
     "output_type": "stream",
     "text": [
      "{'conservative': 267.94617853971704, 'neutral': 401.91926780957544, 'aggressive': 285.8923570794341, 'daveiscool': 10}\n",
      "The optimal project scenario to undertake is 'neutral' with a NPV of 401.91926780957544\n"
     ]
    }
   ],
   "source": [
    "print(npv_dict)\n",
    "print(f\"The optimal project scenario to undertake is 'neutral' with a NPV of {npv_dict['neutral']}\")\n"
   ]
  },
  {
   "cell_type": "code",
   "execution_count": null,
   "id": "be3bb3db-e35a-48ab-84e9-1277635a4635",
   "metadata": {},
   "outputs": [],
   "source": []
  }
 ],
 "metadata": {
  "kernelspec": {
   "display_name": "Python 3 (ipykernel)",
   "language": "python",
   "name": "python3"
  },
  "language_info": {
   "codemirror_mode": {
    "name": "ipython",
    "version": 3
   },
   "file_extension": ".py",
   "mimetype": "text/x-python",
   "name": "python",
   "nbconvert_exporter": "python",
   "pygments_lexer": "ipython3",
   "version": "3.7.12"
  }
 },
 "nbformat": 4,
 "nbformat_minor": 5
}
