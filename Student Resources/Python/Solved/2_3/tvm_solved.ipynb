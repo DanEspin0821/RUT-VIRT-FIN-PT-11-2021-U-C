{
 "cells": [
  {
   "cell_type": "markdown",
   "id": "2a0a152e-5189-4e4e-9db3-d04de053d558",
   "metadata": {},
   "source": [
    "Recreate the present_value formula as a function in Python. Make sure the function has the following parameters:\n",
    "\n",
    "future_value: This is equivalent to the face value, or maturity value, of bonds; a lump sum given at the end of the duration of the bond.\n",
    "\n",
    "discount_rate: This is the rate of return over the duration of the bond.\n",
    "\n",
    "compounding_periods: Assumed to be equal to 1 for bonds.\n",
    "\n",
    "years: The number of years constituting the duration of the bond."
   ]
  },
  {
   "cell_type": "code",
   "execution_count": 1,
   "id": "bf4bf644-771a-4c99-b533-964d130fefc9",
   "metadata": {},
   "outputs": [],
   "source": [
    "# -*- coding: utf-8 -*-\n",
    "\"\"\"\n",
    "Zero-Coupon Bond Valuation.\n",
    "This script will calculate the present value of zero-coupon bonds, compare the present value to the price of the bond, and determine the corresponding action (buy, not buy, neutral).\n",
    "\"\"\"\n",
    "\n",
    "# @TODO: Create a function to calculate present value\n",
    "\n",
    "def calculate_present_value(x, y, z, a):\n",
    "    \n",
    "    present_value = x / (\n",
    "        (1 + (y / z)) ** (z * a)\n",
    "    )\n",
    "    \n",
    "    present_value_formatted = round(present_value, 2)\n",
    "    \n",
    "    return present_value_formatted"
   ]
  },
  {
   "cell_type": "markdown",
   "id": "e9cc630d-37ad-4526-b61b-4978375e4907",
   "metadata": {},
   "source": [
    "Compare the bond_value to its price and determine if the bond is worth purchasing or not.\n",
    "\n",
    "If the bond is selling at a discount, purchase the bond.\n",
    "\n",
    "Else if the bond is selling at a premium, do not purchase the bond.\n",
    "\n",
    "Else the bond is selling at its fair market value, you're neutral to the decision.\n",
    "\n"
   ]
  },
  {
   "cell_type": "code",
   "execution_count": 5,
   "id": "00545fef-343e-4aca-a114-2f185b4bf656",
   "metadata": {},
   "outputs": [
    {
     "name": "stdout",
     "output_type": "stream",
     "text": [
      "Bad deal, don't buy ...\n"
     ]
    }
   ],
   "source": [
    "# Intialize the zero-coupon bond parameters, assume compounding period is equal to 1\n",
    "price = 700\n",
    "future_value = 1000\n",
    "discount_rate = .1\n",
    "compounding_periods = 1\n",
    "years = 5\n",
    "\n",
    "# @TODO: Call the calculate_present_value() function and assign to a variables\n",
    "bond_value = calculate_present_value(future_value, discount_rate, compounding_periods, years)\n",
    "\n",
    "# @TODO: Determine if the bond is worth it\n",
    "if bond_value > price:\n",
    "    print(\"BUY!!!!!\")\n",
    "elif bond_value < price:\n",
    "    print (\"Bad deal, don't buy ...\")\n",
    "else: \n",
    "    print(\"Meh, doesn't matter either way\")"
   ]
  },
  {
   "cell_type": "code",
   "execution_count": null,
   "id": "b489caec-4a21-45c6-8e04-fb20984e5d40",
   "metadata": {},
   "outputs": [],
   "source": [
    "\n",
    "    "
   ]
  }
 ],
 "metadata": {
  "kernelspec": {
   "display_name": "Python 3 (ipykernel)",
   "language": "python",
   "name": "python3"
  },
  "language_info": {
   "codemirror_mode": {
    "name": "ipython",
    "version": 3
   },
   "file_extension": ".py",
   "mimetype": "text/x-python",
   "name": "python",
   "nbconvert_exporter": "python",
   "pygments_lexer": "ipython3",
   "version": "3.7.12"
  }
 },
 "nbformat": 4,
 "nbformat_minor": 5
}
