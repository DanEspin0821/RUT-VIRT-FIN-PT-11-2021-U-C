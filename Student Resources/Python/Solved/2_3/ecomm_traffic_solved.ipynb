{
 "cells": [
  {
   "cell_type": "code",
   "execution_count": 2,
   "id": "1ee2c8bb-94d7-4ee4-806b-9285ced6462b",
   "metadata": {},
   "outputs": [
    {
     "name": "stdout",
     "output_type": "stream",
     "text": [
      "You imported Path!!!!!\n"
     ]
    }
   ],
   "source": [
    "\n",
    "# @TODO: From the pathlib library, import the main class Path\n",
    "from pathlib import Path\n",
    "print(\"You imported Path!!!!!\")"
   ]
  },
  {
   "cell_type": "code",
   "execution_count": 11,
   "id": "6723fa08-2a0a-442d-9ed7-6c9e44909c1d",
   "metadata": {},
   "outputs": [
    {
     "name": "stdout",
     "output_type": "stream",
     "text": [
      "4945\n",
      "100\n",
      "49.45\n"
     ]
    }
   ],
   "source": [
    "# @TODO: Check the current directory where the Python program is executing from\n",
    "# print(Path.cwd())\n",
    "\n",
    "# @TODO: Set the path using Pathlib\n",
    "file = Path('customer_traffic.txt')\n",
    "\n",
    "# Initialize variables\n",
    "customer_total = 0\n",
    "day_count = 0\n",
    "\n",
    "# @TODO: Open the file in \"read\" mode ('r') and store the contents in the variable 'file'\n",
    "with open (file, 'r') as file:\n",
    "    \n",
    "    # @TODO: Parse the file line by line\n",
    "    for line in file:\n",
    "\n",
    "        # @TODO: Convert the number in the text file from string to int (allows for numerical calculations)\n",
    "        number = int(line)\n",
    "\n",
    "        # @TODO: Sum the total and count of the numbers in the text file\n",
    "        customer_total = customer_total + number\n",
    "        day_count += 1\n",
    "        \n",
    "        \n",
    "\n",
    "\n",
    "# @TODO: Print out customer_total and day_count\n",
    "print(customer_total)\n",
    "print(day_count)\n",
    "\n",
    "\n",
    "# @TODO: Calculate the average\n",
    "average = customer_total/day_count\n",
    "print(average)\n",
    "\n",
    "\n",
    "# @TODO: Set output file name\n",
    "output_path = 'output23.txt'\n",
    "\n",
    "# @TODO: Open the output path as a file object\n",
    "with open(output_path, 'w') as file: \n",
    "    file.write(f\"There were {customer_total} customers over the course of {day_count} days.\\n\")\n",
    "    file.write(f\"The average daily customer traffic is {average} customers per day.\")\n",
    "    # @TODO: Write daily_average to the output file, convert to string"
   ]
  },
  {
   "cell_type": "code",
   "execution_count": null,
   "id": "e7556aaa-e2d5-48c0-a287-a4432ce85fb0",
   "metadata": {},
   "outputs": [],
   "source": []
  }
 ],
 "metadata": {
  "kernelspec": {
   "display_name": "Python 3 (ipykernel)",
   "language": "python",
   "name": "python3"
  },
  "language_info": {
   "codemirror_mode": {
    "name": "ipython",
    "version": 3
   },
   "file_extension": ".py",
   "mimetype": "text/x-python",
   "name": "python",
   "nbconvert_exporter": "python",
   "pygments_lexer": "ipython3",
   "version": "3.7.12"
  }
 },
 "nbformat": 4,
 "nbformat_minor": 5
}
