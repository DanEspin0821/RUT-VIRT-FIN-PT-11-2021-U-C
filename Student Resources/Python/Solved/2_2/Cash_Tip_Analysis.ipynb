{
 "cells": [
  {
   "cell_type": "code",
   "execution_count": 1,
   "id": "40efd07f-6790-4463-baae-b945e63cb197",
   "metadata": {},
   "outputs": [
    {
     "name": "stdout",
     "output_type": "stream",
     "text": [
      "[22, 10, 30, 45, 54, 60, 56]\n"
     ]
    }
   ],
   "source": [
    "cash_tips = [22,10,30,45,54,60,56]\n",
    "print(cash_tips)\n"
   ]
  },
  {
   "cell_type": "code",
   "execution_count": 2,
   "id": "1f147f2d-39c1-42af-be14-46a7b147c117",
   "metadata": {},
   "outputs": [
    {
     "name": "stdout",
     "output_type": "stream",
     "text": [
      "22\n",
      "10\n",
      "30\n",
      "45\n",
      "54\n",
      "60\n",
      "56\n"
     ]
    }
   ],
   "source": [
    "for i in cash_tips:\n",
    "    print(i)"
   ]
  },
  {
   "cell_type": "code",
   "execution_count": 4,
   "id": "91ad7637-782c-4eb8-85c7-4da3d92107d6",
   "metadata": {},
   "outputs": [],
   "source": [
    "#initializing variables for our metrics \n",
    "count = 0\n",
    "total = 0\n",
    "average = 0\n",
    "minimum = 0 \n",
    "maximum = 0 "
   ]
  },
  {
   "cell_type": "code",
   "execution_count": 5,
   "id": "607e755e-13c0-49dd-bad2-45579b9cfee1",
   "metadata": {},
   "outputs": [],
   "source": [
    "#iterating over the list \n",
    "for tip in cash_tips: \n",
    "            \n",
    "    total = total + tip \n",
    "    count += 1\n",
    "    \n",
    "     # Logic to determine minimum values\n",
    "    if minimum == 0:\n",
    "        minimum = tip\n",
    "    elif tip < minimum:\n",
    "        minimum = tip\n",
    "        \n",
    "    # Logic to determine maximum values        \n",
    "    if tip > maximum:\n",
    "        maximum = tip\n"
   ]
  },
  {
   "cell_type": "code",
   "execution_count": 8,
   "id": "70a77fc8-d79a-4dce-868d-4ec33d30462f",
   "metadata": {},
   "outputs": [
    {
     "name": "stdout",
     "output_type": "stream",
     "text": [
      "39.57\n"
     ]
    }
   ],
   "source": [
    "# Calculate the average\n",
    "average = round(total / count, 2)\n",
    "print(average)"
   ]
  },
  {
   "cell_type": "code",
   "execution_count": 9,
   "id": "967c53ff-5fb8-47b7-a9fe-93751900bf53",
   "metadata": {},
   "outputs": [
    {
     "name": "stdout",
     "output_type": "stream",
     "text": [
      "---------Summary Statistics----------\n",
      "Number of Days: 7\n",
      "Total Tips: 277\n",
      "Daily Average: 39.57\n",
      "Least Amount of Tips: 10\n",
      "Maximum Amount of Tips: 60\n"
     ]
    }
   ],
   "source": [
    "# Print out the summary statistics\n",
    "print(\"---------Summary Statistics----------\")\n",
    "print(f\"Number of Days: {count}\")\n",
    "print(f\"Total Tips: {total}\")\n",
    "print(f\"Daily Average: {average}\")\n",
    "print(f\"Least Amount of Tips: {minimum}\")\n",
    "print(f\"Maximum Amount of Tips: {maximum}\")"
   ]
  },
  {
   "cell_type": "code",
   "execution_count": null,
   "id": "1775f446-56c1-47fb-8215-ab790f923c46",
   "metadata": {},
   "outputs": [],
   "source": []
  }
 ],
 "metadata": {
  "kernelspec": {
   "display_name": "Python 3 (ipykernel)",
   "language": "python",
   "name": "python3"
  },
  "language_info": {
   "codemirror_mode": {
    "name": "ipython",
    "version": 3
   },
   "file_extension": ".py",
   "mimetype": "text/x-python",
   "name": "python",
   "nbconvert_exporter": "python",
   "pygments_lexer": "ipython3",
   "version": "3.9.7"
  }
 },
 "nbformat": 4,
 "nbformat_minor": 5
}
