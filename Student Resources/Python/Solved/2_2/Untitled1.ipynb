{
 "cells": [
  {
   "cell_type": "code",
   "execution_count": 1,
   "id": "f8fc959e-5d26-4b45-8e59-43040f30c4d2",
   "metadata": {},
   "outputs": [
    {
     "name": "stdout",
     "output_type": "stream",
     "text": [
      "pi is 3.141592653589793\n"
     ]
    }
   ],
   "source": [
    "import math\n",
    "print('pi is', math.pi)"
   ]
  },
  {
   "cell_type": "code",
   "execution_count": 15,
   "id": "2effcaa6-c4e5-4bd3-ba4c-68a6b1d7686f",
   "metadata": {},
   "outputs": [],
   "source": [
    "def main():\n",
    "    print(\"Greetings!\")"
   ]
  },
  {
   "cell_type": "code",
   "execution_count": 16,
   "id": "d7dc7f20-28ea-4cbb-9fad-83879b423903",
   "metadata": {},
   "outputs": [
    {
     "name": "stdout",
     "output_type": "stream",
     "text": [
      "Greetings!\n"
     ]
    }
   ],
   "source": [
    "main()"
   ]
  },
  {
   "cell_type": "code",
   "execution_count": 4,
   "id": "2380b873-8785-4631-b298-ca9b51a5d81c",
   "metadata": {},
   "outputs": [],
   "source": [
    "def main(stock_ticker):\n",
    "    print(stock_ticker + \" is booming right now!\")"
   ]
  },
  {
   "cell_type": "code",
   "execution_count": 6,
   "id": "1ee43fc4-dfa2-4488-883d-13f726521036",
   "metadata": {},
   "outputs": [
    {
     "name": "stdout",
     "output_type": "stream",
     "text": [
      "BTC is booming right now!\n"
     ]
    }
   ],
   "source": [
    "main('BTC')"
   ]
  },
  {
   "cell_type": "code",
   "execution_count": 12,
   "id": "0c296e97-7e4f-4800-b883-df7be26f4cf6",
   "metadata": {},
   "outputs": [],
   "source": [
    "def calculate_market_cap(market_price, number_of_shares):\n",
    "    cap = market_price * number_of_shares\n",
    "\n",
    "    # Output market_cap value\n",
    "    return cap"
   ]
  },
  {
   "cell_type": "code",
   "execution_count": 14,
   "id": "5ab2d257-f104-4591-9711-b328148575ab",
   "metadata": {},
   "outputs": [
    {
     "name": "stdout",
     "output_type": "stream",
     "text": [
      "Market Capitalization: 8100000000\n",
      "Data type of market_cap variable is: <class 'int'>\n"
     ]
    }
   ],
   "source": [
    "market_price = 90\n",
    "number_of_shares = 90000000\n",
    "\n",
    "# Call calculate_market_cap() function and capture output as market_cap\n",
    "market_cap = calculate_market_cap(market_price, number_of_shares)\n",
    "\n",
    "print(f\"Market Capitalization: {market_cap}\")\n",
    "print(f\"Data type of market_cap variable is: {type(market_cap)}\")"
   ]
  },
  {
   "cell_type": "code",
   "execution_count": null,
   "id": "f9b9c273-f31d-47e7-865d-4d6e0c9924bc",
   "metadata": {},
   "outputs": [],
   "source": []
  }
 ],
 "metadata": {
  "kernelspec": {
   "display_name": "Python 3 (ipykernel)",
   "language": "python",
   "name": "python3"
  },
  "language_info": {
   "codemirror_mode": {
    "name": "ipython",
    "version": 3
   },
   "file_extension": ".py",
   "mimetype": "text/x-python",
   "name": "python",
   "nbconvert_exporter": "python",
   "pygments_lexer": "ipython3",
   "version": "3.9.7"
  }
 },
 "nbformat": 4,
 "nbformat_minor": 5
}
