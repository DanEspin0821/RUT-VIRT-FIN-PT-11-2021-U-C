{
 "cells": [
  {
   "cell_type": "code",
   "execution_count": 1,
   "id": "74ad1594-4fcd-4ab5-ae8d-450717521511",
   "metadata": {},
   "outputs": [
    {
     "name": "stdout",
     "output_type": "stream",
     "text": [
      "['water', 'butter', 'eggs', 'apples', 'cinnamon', 'sugar', 'milk']\n"
     ]
    }
   ],
   "source": [
    "# Create a list of groceries\n",
    "groceries = [\"water\", \"butter\", \"eggs\",\"apples\", \"cinnamon\", \"sugar\", \"milk\"]\n",
    "print(groceries)"
   ]
  },
  {
   "cell_type": "code",
   "execution_count": 2,
   "id": "f20a271a-4903-4521-9de1-7d2a1e6c3da6",
   "metadata": {},
   "outputs": [
    {
     "name": "stdout",
     "output_type": "stream",
     "text": [
      "['water', 'butter']\n"
     ]
    }
   ],
   "source": [
    "# Find the first two items on the list\n",
    "\n",
    "print(groceries[:2])"
   ]
  },
  {
   "cell_type": "code",
   "execution_count": 3,
   "id": "ba25ca60-cf51-47ca-86e7-e24ead77314a",
   "metadata": {},
   "outputs": [
    {
     "name": "stdout",
     "output_type": "stream",
     "text": [
      "['eggs', 'apples', 'cinnamon', 'sugar', 'milk']\n"
     ]
    }
   ],
   "source": [
    "# Find the last five items on the list\n",
    "print(groceries[2:])"
   ]
  },
  {
   "cell_type": "code",
   "execution_count": 4,
   "id": "c543598c-4618-470d-ad4b-fecc58d3c368",
   "metadata": {},
   "outputs": [
    {
     "name": "stdout",
     "output_type": "stream",
     "text": [
      "['butter', 'apples', 'sugar']\n"
     ]
    }
   ],
   "source": [
    "# Find every other item on the list, starting from the second item\n",
    "print(groceries[1::2])"
   ]
  },
  {
   "cell_type": "code",
   "execution_count": 5,
   "id": "56ef8fa8-c04c-4871-8c6e-52662f8f8d6d",
   "metadata": {},
   "outputs": [
    {
     "name": "stdout",
     "output_type": "stream",
     "text": [
      "['water', 'butter', 'eggs', 'apples', 'cinnamon', 'sugar', 'milk', 'flour']\n"
     ]
    }
   ],
   "source": [
    "# Add an element to the end of the list\n",
    "groceries.append(\"flour\")\n",
    "print(groceries)"
   ]
  },
  {
   "cell_type": "code",
   "execution_count": 6,
   "id": "4163a7bd-8af2-4adc-bcc5-fb9d5b9f41b4",
   "metadata": {},
   "outputs": [
    {
     "name": "stdout",
     "output_type": "stream",
     "text": [
      "['water', 'butter', 'eggs', 'gala apples', 'cinnamon', 'sugar', 'milk', 'flour']\n"
     ]
    }
   ],
   "source": [
    "# Changes a specified element within the list at the given index\n",
    "groceries[3] = \"gala apples\"\n",
    "print(groceries)"
   ]
  },
  {
   "cell_type": "code",
   "execution_count": 7,
   "id": "1eb4d822-104b-4a32-bb68-bb8bc5327a72",
   "metadata": {},
   "outputs": [
    {
     "name": "stdout",
     "output_type": "stream",
     "text": [
      "8\n"
     ]
    }
   ],
   "source": [
    "# Calculate how many items you have in the list\n",
    "print(len(groceries))"
   ]
  },
  {
   "cell_type": "code",
   "execution_count": null,
   "id": "958d620f-739e-4e52-924e-5e7d83b66c3d",
   "metadata": {},
   "outputs": [],
   "source": []
  }
 ],
 "metadata": {
  "kernelspec": {
   "display_name": "Python 3 (ipykernel)",
   "language": "python",
   "name": "python3"
  },
  "language_info": {
   "codemirror_mode": {
    "name": "ipython",
    "version": 3
   },
   "file_extension": ".py",
   "mimetype": "text/x-python",
   "name": "python",
   "nbconvert_exporter": "python",
   "pygments_lexer": "ipython3",
   "version": "3.9.7"
  }
 },
 "nbformat": 4,
 "nbformat_minor": 5
}
