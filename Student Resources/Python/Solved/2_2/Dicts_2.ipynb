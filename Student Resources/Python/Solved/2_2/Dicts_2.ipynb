{
 "cells": [
  {
   "cell_type": "code",
   "execution_count": 1,
   "id": "85fe8af9-4f67-4a01-b2eb-6bbf1b9648be",
   "metadata": {},
   "outputs": [
    {
     "name": "stdout",
     "output_type": "stream",
     "text": [
      "{'JP Morgan Chase': 327, 'Bank of America': 302, 'Citigroup': 173, 'Wells Fargo': 273, 'Goldman Sachs': 87, 'Morgan Stanley': 72, 'U.S. Bancorp': 83, 'TD Bank': 108, 'PNC Financial Services': 67, 'Capital One': 47, 'FNB Corporation': 4, 'First Hawaiian Bank': 3, 'Ally Financial': 12, 'Wachovia': 145, 'Republic Bancorp': 0.97}\n"
     ]
    }
   ],
   "source": [
    "# Initialize a dictionary of banks and market caps (in billions)\n",
    "\n",
    "banks = {\n",
    "    \"JP Morgan Chase\": 327,\n",
    "    \"Bank of America\": 302,\n",
    "    \"Citigroup\": 173,\n",
    "    \"Wells Fargo\": 273,\n",
    "    \"Goldman Sachs\": 87,\n",
    "    \"Morgan Stanley\": 72,\n",
    "    \"U.S. Bancorp\": 83,\n",
    "    \"TD Bank\": 108,\n",
    "    \"PNC Financial Services\": 67,\n",
    "    \"Capital One\": 47,\n",
    "    \"FNB Corporation\": 4,\n",
    "    \"First Hawaiian Bank\": 3,\n",
    "    \"Ally Financial\": 12,\n",
    "    \"Wachovia\": 145,\n",
    "    \"Republic Bancorp\": .97\n",
    "}\n",
    "\n",
    "print(banks)"
   ]
  },
  {
   "cell_type": "code",
   "execution_count": null,
   "id": "13c116af-3391-4bb2-9ef1-23a13d87304e",
   "metadata": {},
   "outputs": [],
   "source": []
  },
  {
   "cell_type": "code",
   "execution_count": 2,
   "id": "11185ed3-c08a-4f70-b414-76073868e070",
   "metadata": {},
   "outputs": [],
   "source": [
    "banks['Citigroup'] = 170"
   ]
  },
  {
   "cell_type": "code",
   "execution_count": 3,
   "id": "65603646-86a8-486d-8b09-bfcd2c5aa045",
   "metadata": {},
   "outputs": [
    {
     "name": "stdout",
     "output_type": "stream",
     "text": [
      "{'JP Morgan Chase': 327, 'Bank of America': 302, 'Citigroup': 170, 'Wells Fargo': 273, 'Goldman Sachs': 87, 'Morgan Stanley': 72, 'U.S. Bancorp': 83, 'TD Bank': 108, 'PNC Financial Services': 67, 'Capital One': 47, 'FNB Corporation': 4, 'First Hawaiian Bank': 3, 'Ally Financial': 12, 'Wachovia': 145, 'Republic Bancorp': 0.97}\n"
     ]
    }
   ],
   "source": [
    "print(banks)"
   ]
  },
  {
   "cell_type": "code",
   "execution_count": 4,
   "id": "c539ae07-007a-4923-ac98-c8da776210a1",
   "metadata": {},
   "outputs": [
    {
     "name": "stdout",
     "output_type": "stream",
     "text": [
      "{'JP Morgan Chase': 327, 'Bank of America': 302, 'Citigroup': 170, 'Wells Fargo': 273, 'Goldman Sachs': 87, 'Morgan Stanley': 72, 'U.S. Bancorp': 83, 'TD Bank': 108, 'PNC Financial Services': 67, 'Capital One': 47, 'FNB Corporation': 4, 'First Hawaiian Bank': 3, 'Ally Financial': 12, 'Wachovia': 145, 'Republic Bancorp': 0.97, 'American Express': 33}\n"
     ]
    }
   ],
   "source": [
    "banks['American Express'] = 33\n",
    "print(banks)"
   ]
  },
  {
   "cell_type": "code",
   "execution_count": 5,
   "id": "dac320e9-9cb4-4153-b1b0-02a808113036",
   "metadata": {},
   "outputs": [],
   "source": [
    "del banks['Wachovia']"
   ]
  },
  {
   "cell_type": "code",
   "execution_count": 6,
   "id": "b49453a4-b4d8-4c06-89e1-a0d5c600b4a1",
   "metadata": {},
   "outputs": [
    {
     "name": "stdout",
     "output_type": "stream",
     "text": [
      "{'JP Morgan Chase': 327, 'Bank of America': 302, 'Citigroup': 170, 'Wells Fargo': 273, 'Goldman Sachs': 87, 'Morgan Stanley': 72, 'U.S. Bancorp': 83, 'TD Bank': 108, 'PNC Financial Services': 67, 'Capital One': 47, 'FNB Corporation': 4, 'First Hawaiian Bank': 3, 'Ally Financial': 12, 'Republic Bancorp': 0.97, 'American Express': 33}\n"
     ]
    }
   ],
   "source": [
    "print(banks)"
   ]
  },
  {
   "cell_type": "code",
   "execution_count": null,
   "id": "8cf2f8d4-b02e-44ce-83ee-3c302a1c1aad",
   "metadata": {},
   "outputs": [],
   "source": []
  }
 ],
 "metadata": {
  "kernelspec": {
   "display_name": "Python 3 (ipykernel)",
   "language": "python",
   "name": "python3"
  },
  "language_info": {
   "codemirror_mode": {
    "name": "ipython",
    "version": 3
   },
   "file_extension": ".py",
   "mimetype": "text/x-python",
   "name": "python",
   "nbconvert_exporter": "python",
   "pygments_lexer": "ipython3",
   "version": "3.9.7"
  }
 },
 "nbformat": 4,
 "nbformat_minor": 5
}
