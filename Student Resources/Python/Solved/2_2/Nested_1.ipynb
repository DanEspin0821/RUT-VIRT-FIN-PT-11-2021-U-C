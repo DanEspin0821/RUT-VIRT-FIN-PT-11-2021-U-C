{
 "cells": [
  {
   "cell_type": "code",
   "execution_count": null,
   "id": "e13c74bb-395b-431b-8c04-f54dd4eb5b2f",
   "metadata": {},
   "outputs": [],
   "source": [
    "# List\n",
    "ceo_list = [\"Warren\", \"Jack\", \"Harry\"]\n"
   ]
  },
  {
   "cell_type": "code",
   "execution_count": 1,
   "id": "2d7e9c74-052e-4e60-9b82-a4c99c51d2fa",
   "metadata": {},
   "outputs": [
    {
     "name": "stdout",
     "output_type": "stream",
     "text": [
      "[['Warren Buffet', 88, 'CEO of Berkshire Hathaway'], ['Jeff Bezos', 55, 'CEO of Amazon'], ['Harry Markowitz', 91, 'Professor of Finance']]\n"
     ]
    }
   ],
   "source": [
    "\n",
    "ceo_nested_list = [\n",
    "    [\"Warren Buffet\", 88, \"CEO of Berkshire Hathaway\"],\n",
    "    [\"Jeff Bezos\", 55, \"CEO of Amazon\"],\n",
    "    [\"Harry Markowitz\", 91, \"Professor of Finance\"]\n",
    "]\n",
    "\n",
    "print(ceo_nested_list)"
   ]
  },
  {
   "cell_type": "code",
   "execution_count": 2,
   "id": "e73e6920-8463-436d-bb69-9d0469153313",
   "metadata": {},
   "outputs": [
    {
     "name": "stdout",
     "output_type": "stream",
     "text": [
      "['Warren Buffet', 88, 'CEO of Berkshire Hathaway']\n"
     ]
    }
   ],
   "source": [
    "first_entry = ceo_nested_list[0]\n",
    "print(first_entry)"
   ]
  },
  {
   "cell_type": "code",
   "execution_count": 3,
   "id": "b35ba03f-dd7c-4beb-b61f-b18d9e372bdf",
   "metadata": {},
   "outputs": [
    {
     "name": "stdout",
     "output_type": "stream",
     "text": [
      "Warren Buffet\n"
     ]
    }
   ],
   "source": [
    "first_entry_name = ceo_nested_list[0][0]\n",
    "print(first_entry_name)"
   ]
  },
  {
   "cell_type": "code",
   "execution_count": 4,
   "id": "37895962-2d90-4060-bb9f-b0c49863308a",
   "metadata": {},
   "outputs": [
    {
     "name": "stdout",
     "output_type": "stream",
     "text": [
      "88\n"
     ]
    }
   ],
   "source": [
    "first_entry_age = ceo_nested_list[0][1]\n",
    "print(first_entry_age)"
   ]
  },
  {
   "cell_type": "code",
   "execution_count": 6,
   "id": "d7229edf-2f2a-47f4-9d7f-c2e441274f3d",
   "metadata": {},
   "outputs": [
    {
     "name": "stdout",
     "output_type": "stream",
     "text": [
      "<class 'list'>\n"
     ]
    }
   ],
   "source": [
    "# List of Dicts\n",
    "ceo_nested_dict = [\n",
    "    {\n",
    "        \"name\": \"Warren Buffet\",\n",
    "        \"age\": 88,\n",
    "        \"occupation\": \"CEO of Berkshire Hathaway\"\n",
    "    },\n",
    "    {\n",
    "        \"name\": \"Jeff Bezos\",\n",
    "        \"age\": 55,\n",
    "        \"occupation\": \"CEO of Amazon\"\n",
    "    },\n",
    "    {\n",
    "        \"name\": \"Harry Markowitz\",\n",
    "        \"age\": 91,\n",
    "        \"occupation\": \"Professor of Finance\"\n",
    "    }\n",
    "]\n",
    "\n"
   ]
  },
  {
   "cell_type": "code",
   "execution_count": 8,
   "id": "22f46cf0-9f43-4324-9278-f67940077a5f",
   "metadata": {},
   "outputs": [
    {
     "name": "stdout",
     "output_type": "stream",
     "text": [
      "{'name': 'Jeff Bezos', 'age': 55, 'occupation': 'CEO of Amazon'}\n"
     ]
    }
   ],
   "source": [
    "second_entry = ceo_nested_dict[1]\n",
    "print(second_entry)"
   ]
  },
  {
   "cell_type": "code",
   "execution_count": 10,
   "id": "2ab41098-db8f-4073-af4a-a9da338bfb78",
   "metadata": {},
   "outputs": [
    {
     "name": "stdout",
     "output_type": "stream",
     "text": [
      "Jeff Bezos\n"
     ]
    }
   ],
   "source": [
    "second_entry_name = ceo_nested_dict[1][\"name\"]\n",
    "print(second_entry_name)"
   ]
  },
  {
   "cell_type": "code",
   "execution_count": null,
   "id": "15058eab-531b-4c2e-b6c8-f2ca4d62923d",
   "metadata": {},
   "outputs": [],
   "source": [
    "stocks_dict = {\n",
    "    \"APPL\": 101.32,\n",
    "    \"MU\": 43.4,\n",
    "    \"AMD\": 23.12,\n",
    "    \"TWTR\": 25\n",
    "}"
   ]
  },
  {
   "cell_type": "code",
   "execution_count": 12,
   "id": "8ba346d4-0001-489a-b0ac-2ba4441b8dce",
   "metadata": {},
   "outputs": [],
   "source": [
    "# Dictionary of Lists\n",
    "stocks_nested_list = {\n",
    "    \"APPL\": [\"Apple\", 101.32, \"NASDAQ\", 937.7],\n",
    "    \"MU\": [\"Micron Technology\", 32.12, \"NASDAQ\", 48.03],\n",
    "    \"AMD\": [\"Advanced Micro Devices\", 23.12, \"NASDAQ\", 29.94],\n",
    "    \"TWTR\": [\"Twitter\", 34.40, \"NASDAQ\", 26.42]\n",
    "}"
   ]
  },
  {
   "cell_type": "code",
   "execution_count": 13,
   "id": "d02b6a97-f484-4c6d-8012-2424faca9c02",
   "metadata": {},
   "outputs": [
    {
     "name": "stdout",
     "output_type": "stream",
     "text": [
      "['Apple', 101.32, 'NASDAQ', 937.7]\n"
     ]
    }
   ],
   "source": [
    "appl_entry = stocks_nested_list[\"APPL\"]\n",
    "print(appl_entry)"
   ]
  },
  {
   "cell_type": "code",
   "execution_count": 14,
   "id": "eceda3c7-6ea1-41ff-8118-3a579d5a5f59",
   "metadata": {},
   "outputs": [
    {
     "name": "stdout",
     "output_type": "stream",
     "text": [
      "101.32\n"
     ]
    }
   ],
   "source": [
    "appl_price = stocks_nested_list[\"APPL\"][1]\n",
    "print(appl_price)"
   ]
  },
  {
   "cell_type": "code",
   "execution_count": 16,
   "id": "21883170-74d1-415d-ab48-0712ccd73b44",
   "metadata": {},
   "outputs": [],
   "source": [
    "# Dictionary of Dicts\n",
    "stocks_nested_dict = {\n",
    "  \"APPL\": {\n",
    "      \"name\": \"Apple\",\n",
    "      \"exchange\": \"NASDAQ\",\n",
    "      \"market_cap\": 937.7\n",
    "  },\n",
    "  \"MU\": {\n",
    "      \"name\": \"Micron Technology\",\n",
    "      \"exchange\": \"NASDAQ\",\n",
    "      \"market_cap\": 48.03\n",
    "  },\n",
    "  \"AMD\": {\n",
    "      \"name\": \"Advanced Micro Devices\",\n",
    "      \"exchange\": \"NASDAQ\",\n",
    "      \"market_cap\": 29.94\n",
    "  },\n",
    "  \"TWTR\": {\n",
    "      \"name\": \"Twitter\",\n",
    "      \"exchange\": \"NASDAQ\",\n",
    "      \"market_cap\": 26.42\n",
    "  }\n",
    "}"
   ]
  },
  {
   "cell_type": "code",
   "execution_count": 17,
   "id": "d81f0d16-4a92-477b-b66e-b578ba097b53",
   "metadata": {},
   "outputs": [
    {
     "name": "stdout",
     "output_type": "stream",
     "text": [
      "{'name': 'Twitter', 'exchange': 'NASDAQ', 'market_cap': 26.42}\n"
     ]
    }
   ],
   "source": [
    "twitter_entry = stocks_nested_dict[\"TWTR\"]\n",
    "print(twitter_entry)"
   ]
  },
  {
   "cell_type": "code",
   "execution_count": 18,
   "id": "400e2e05-d41e-4963-8977-f1b9c08c562d",
   "metadata": {},
   "outputs": [
    {
     "name": "stdout",
     "output_type": "stream",
     "text": [
      "NASDAQ\n"
     ]
    }
   ],
   "source": [
    "twitter_exchange = stocks_nested_dict[\"TWTR\"][\"exchange\"]\n",
    "print(twitter_exchange)"
   ]
  }
 ],
 "metadata": {
  "kernelspec": {
   "display_name": "Python 3 (ipykernel)",
   "language": "python",
   "name": "python3"
  },
  "language_info": {
   "codemirror_mode": {
    "name": "ipython",
    "version": 3
   },
   "file_extension": ".py",
   "mimetype": "text/x-python",
   "name": "python",
   "nbconvert_exporter": "python",
   "pygments_lexer": "ipython3",
   "version": "3.9.7"
  }
 },
 "nbformat": 4,
 "nbformat_minor": 5
}
