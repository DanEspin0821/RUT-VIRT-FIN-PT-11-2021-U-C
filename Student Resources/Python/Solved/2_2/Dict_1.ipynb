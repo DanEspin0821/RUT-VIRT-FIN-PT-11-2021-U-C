{
 "cells": [
  {
   "cell_type": "code",
   "execution_count": 3,
   "id": "8f5ba9cc-443f-47d2-a742-3e0ad8f1dde4",
   "metadata": {
    "tags": []
   },
   "outputs": [
    {
     "name": "stdout",
     "output_type": "stream",
     "text": [
      "{'title': 'Trading Log', '03-18-2019': -224, '03-19-2019': 352, '03-20-2019': 252, '03-21-2019': 354, '03-22-2019': -544, '03-23-2019': -650, '03-24-2019': 56, '03-25-2019': 123, '03-26-2019': -43, '03-27-2019': 254, '03-28-2019': 325, '03-29-2019': -123, '03-30-2019': 47, '03-31-2019': 321, '04-01-2019': 123, '04-02-2019': 133, '04-03-2019': -151, '04-04-2019': 613, '04-05-2019': 232, '04-06-2019': -311}\n"
     ]
    }
   ],
   "source": [
    "# Initialize a dictionary\n",
    "trading_pnl = {\n",
    "    \"title\": \"Trading Log\",\n",
    "    \"03-18-2019\": -224,\n",
    "    \"03-19-2019\": 352,\n",
    "    \"03-20-2019\": 252,\n",
    "    \"03-21-2019\": 354,\n",
    "    \"03-22-2019\": -544,\n",
    "    \"03-23-2019\": -650,\n",
    "    \"03-24-2019\": 56,\n",
    "    \"03-25-2019\": 123,\n",
    "    \"03-26-2019\": -43,\n",
    "    \"03-27-2019\": 254,\n",
    "    \"03-28-2019\": 325,\n",
    "    \"03-29-2019\": -123,\n",
    "    \"03-30-2019\": 47,\n",
    "    \"03-31-2019\": 321,\n",
    "    \"04-01-2019\": 123,\n",
    "    \"04-02-2019\": 133,\n",
    "    \"04-03-2019\": -151,\n",
    "    \"04-04-2019\": 613,\n",
    "    \"04-05-2019\": 232,\n",
    "    \"04-06-2019\": -311\n",
    "}\n",
    "\n",
    "print(trading_pnl)"
   ]
  },
  {
   "cell_type": "code",
   "execution_count": 4,
   "id": "0bf555d5-679c-40d9-b0c8-592328c03470",
   "metadata": {},
   "outputs": [
    {
     "name": "stdout",
     "output_type": "stream",
     "text": [
      "321\n"
     ]
    }
   ],
   "source": [
    "print(trading_pnl['03-31-2019'])"
   ]
  },
  {
   "cell_type": "code",
   "execution_count": 5,
   "id": "676ac173-375b-4194-a747-02c4cd77542c",
   "metadata": {},
   "outputs": [],
   "source": [
    "trading_pnl[\"04-07-2019\"] = 413"
   ]
  },
  {
   "cell_type": "code",
   "execution_count": 6,
   "id": "a834f090-3bfe-481b-b84f-d93cf6b69fdc",
   "metadata": {},
   "outputs": [
    {
     "name": "stdout",
     "output_type": "stream",
     "text": [
      "{'title': 'Trading Log', '03-18-2019': -224, '03-19-2019': 352, '03-20-2019': 252, '03-21-2019': 354, '03-22-2019': -544, '03-23-2019': -650, '03-24-2019': 56, '03-25-2019': 123, '03-26-2019': -43, '03-27-2019': 254, '03-28-2019': 325, '03-29-2019': -123, '03-30-2019': 47, '03-31-2019': 321, '04-01-2019': 123, '04-02-2019': 133, '04-03-2019': -151, '04-04-2019': 613, '04-05-2019': 232, '04-06-2019': -311, '04-07-2019': 413}\n"
     ]
    }
   ],
   "source": [
    "print(trading_pnl)"
   ]
  },
  {
   "cell_type": "code",
   "execution_count": 7,
   "id": "e352f83c-7d96-455a-a9c7-a239c29e375a",
   "metadata": {},
   "outputs": [
    {
     "name": "stdout",
     "output_type": "stream",
     "text": [
      "{'title': 'Trading Log', '03-18-2019': -224, '03-19-2019': 352, '03-20-2019': 252, '03-21-2019': 354, '03-22-2019': -544, '03-23-2019': -650, '03-24-2019': 56, '03-25-2019': 123, '03-26-2019': -43, '03-27-2019': 254, '03-28-2019': 325, '03-29-2019': -123, '03-30-2019': 47, '03-31-2019': 321, '04-01-2019': 123, '04-02-2019': 133, '04-03-2019': -151, '04-04-2019': 613, '04-05-2019': 232, '04-06-2019': -311, '04-07-2019': 542}\n"
     ]
    }
   ],
   "source": [
    "trading_pnl[\"04-07-2019\"] = 542\n",
    "print(trading_pnl)"
   ]
  },
  {
   "cell_type": "code",
   "execution_count": 8,
   "id": "f74b5437-a437-4156-a90b-60d65ab572a7",
   "metadata": {},
   "outputs": [],
   "source": [
    "del trading_pnl[\"04-07-2019\"]\n"
   ]
  },
  {
   "cell_type": "code",
   "execution_count": 10,
   "id": "7cf453d0-5603-44b3-ba61-dcf483cdebc7",
   "metadata": {},
   "outputs": [
    {
     "name": "stdout",
     "output_type": "stream",
     "text": [
      "Yes\n"
     ]
    }
   ],
   "source": [
    "if \"04-03-2019\" in trading_pnl: \n",
    "    print(\"Yes\")"
   ]
  },
  {
   "cell_type": "code",
   "execution_count": 11,
   "id": "7e0d5b68-59b5-457f-9659-e3c14e564781",
   "metadata": {},
   "outputs": [
    {
     "name": "stdout",
     "output_type": "stream",
     "text": [
      "title\n",
      "03-18-2019\n",
      "03-19-2019\n",
      "03-20-2019\n",
      "03-21-2019\n",
      "03-22-2019\n",
      "03-23-2019\n",
      "03-24-2019\n",
      "03-25-2019\n",
      "03-26-2019\n",
      "03-27-2019\n",
      "03-28-2019\n",
      "03-29-2019\n",
      "03-30-2019\n",
      "03-31-2019\n",
      "04-01-2019\n",
      "04-02-2019\n",
      "04-03-2019\n",
      "04-04-2019\n",
      "04-05-2019\n",
      "04-06-2019\n"
     ]
    }
   ],
   "source": [
    "for key in trading_pnl: \n",
    "    print(key)"
   ]
  },
  {
   "cell_type": "code",
   "execution_count": 12,
   "id": "06473fe6-e830-473d-89f1-22587fbd4edd",
   "metadata": {},
   "outputs": [
    {
     "name": "stdout",
     "output_type": "stream",
     "text": [
      "Value: Trading Log\n",
      "\n",
      "Value: -224\n",
      "\n",
      "Value: 352\n",
      "\n",
      "Value: 252\n",
      "\n",
      "Value: 354\n",
      "\n",
      "Value: -544\n",
      "\n",
      "Value: -650\n",
      "\n",
      "Value: 56\n",
      "\n",
      "Value: 123\n",
      "\n",
      "Value: -43\n",
      "\n",
      "Value: 254\n",
      "\n",
      "Value: 325\n",
      "\n",
      "Value: -123\n",
      "\n",
      "Value: 47\n",
      "\n",
      "Value: 321\n",
      "\n",
      "Value: 123\n",
      "\n",
      "Value: 133\n",
      "\n",
      "Value: -151\n",
      "\n",
      "Value: 613\n",
      "\n",
      "Value: 232\n",
      "\n",
      "Value: -311\n",
      "\n"
     ]
    }
   ],
   "source": [
    "for key in trading_pnl:\n",
    "    print(f\"Value: {trading_pnl[key]}\")\n",
    "    print()"
   ]
  },
  {
   "cell_type": "code",
   "execution_count": 13,
   "id": "36806d37-bac1-47d3-84d0-003dbe4bf228",
   "metadata": {},
   "outputs": [
    {
     "name": "stdout",
     "output_type": "stream",
     "text": [
      "Key: title Value: Trading Log\n",
      "\n",
      "Key: 03-18-2019 Value: -224\n",
      "\n",
      "Key: 03-19-2019 Value: 352\n",
      "\n",
      "Key: 03-20-2019 Value: 252\n",
      "\n",
      "Key: 03-21-2019 Value: 354\n",
      "\n",
      "Key: 03-22-2019 Value: -544\n",
      "\n",
      "Key: 03-23-2019 Value: -650\n",
      "\n",
      "Key: 03-24-2019 Value: 56\n",
      "\n",
      "Key: 03-25-2019 Value: 123\n",
      "\n",
      "Key: 03-26-2019 Value: -43\n",
      "\n",
      "Key: 03-27-2019 Value: 254\n",
      "\n",
      "Key: 03-28-2019 Value: 325\n",
      "\n",
      "Key: 03-29-2019 Value: -123\n",
      "\n",
      "Key: 03-30-2019 Value: 47\n",
      "\n",
      "Key: 03-31-2019 Value: 321\n",
      "\n",
      "Key: 04-01-2019 Value: 123\n",
      "\n",
      "Key: 04-02-2019 Value: 133\n",
      "\n",
      "Key: 04-03-2019 Value: -151\n",
      "\n",
      "Key: 04-04-2019 Value: 613\n",
      "\n",
      "Key: 04-05-2019 Value: 232\n",
      "\n",
      "Key: 04-06-2019 Value: -311\n",
      "\n"
     ]
    }
   ],
   "source": [
    "for key, value in trading_pnl.items():\n",
    "    print(f\"Key: {key} Value: {value}\")\n",
    "    print()"
   ]
  },
  {
   "cell_type": "code",
   "execution_count": null,
   "id": "992be69c-a4d6-4cb2-885c-ca1455e20495",
   "metadata": {},
   "outputs": [],
   "source": []
  }
 ],
 "metadata": {
  "kernelspec": {
   "display_name": "Python 3 (ipykernel)",
   "language": "python",
   "name": "python3"
  },
  "language_info": {
   "codemirror_mode": {
    "name": "ipython",
    "version": 3
   },
   "file_extension": ".py",
   "mimetype": "text/x-python",
   "name": "python",
   "nbconvert_exporter": "python",
   "pygments_lexer": "ipython3",
   "version": "3.9.7"
  }
 },
 "nbformat": 4,
 "nbformat_minor": 5
}
