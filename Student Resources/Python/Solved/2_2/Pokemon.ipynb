{
 "cells": [
  {
   "cell_type": "code",
   "execution_count": 13,
   "id": "82fd91f1-7fc4-46c4-aab2-dce3a21c4329",
   "metadata": {},
   "outputs": [],
   "source": [
    "# Index: 0 = \"green\", 1 = \"blue\", 2 = \"red\", 3 = \"purple\"\n",
    "color_hats = [\"green\", \"blue\", \"red\", \"purple\"]\n",
    "\n",
    "my_favorite_things = [\"Chocolate\", \"beach\", \"mountains\", \"breakfast_tacos\"]\n",
    "\n",
    "my_favorite_things = [\"Chocolate\", 9, \"beach\", 10, \"breakfast_tacos\"]\n",
    "\n",
    "my_favorite_things = [\"Chocolate\", 9, [\"beach\", \"mountains\"], \"breakfast_tacos\"]"
   ]
  },
  {
   "cell_type": "code",
   "execution_count": 16,
   "id": "b6c8272a-d8d3-4dec-90b1-cb30dd594040",
   "metadata": {},
   "outputs": [
    {
     "name": "stdout",
     "output_type": "stream",
     "text": [
      "['Pikachu', 'Charizard', 'Bulbasuar', 'Gyardos', 'Dragonite', 'Onyx']\n",
      "\n"
     ]
    }
   ],
   "source": [
    "pokemon = [\"Pikachu\", \"Charizard\", \"Bulbasuar\", \"Gyardos\", \"Dragonite\", \"Onyx\"]\n",
    "print(pokemon)"
   ]
  },
  {
   "cell_type": "code",
   "execution_count": 17,
   "id": "8bfd8715-c1f3-4181-b0dc-a965044de4a8",
   "metadata": {},
   "outputs": [
    {
     "name": "stdout",
     "output_type": "stream",
     "text": [
      "Bulbasuar\n"
     ]
    }
   ],
   "source": [
    "print(pokemon[2])"
   ]
  },
  {
   "cell_type": "code",
   "execution_count": 18,
   "id": "442bb5a9-3132-4e46-930d-ca6172c51aeb",
   "metadata": {},
   "outputs": [
    {
     "name": "stdout",
     "output_type": "stream",
     "text": [
      "['Bulbasuar', 'Gyardos', 'Dragonite']\n"
     ]
    }
   ],
   "source": [
    "print(pokemon[2:5])"
   ]
  },
  {
   "cell_type": "code",
   "execution_count": 19,
   "id": "d0c240c1-d75f-41a5-ad8b-2c4bba1cc2e1",
   "metadata": {},
   "outputs": [
    {
     "name": "stdout",
     "output_type": "stream",
     "text": [
      "['Pikachu', 'Charizard', 'Bulbasuar']\n"
     ]
    }
   ],
   "source": [
    "print(pokemon[:3])"
   ]
  },
  {
   "cell_type": "code",
   "execution_count": 20,
   "id": "a86fbde3-9f4e-4bc3-8b3a-b068ddbe85c3",
   "metadata": {},
   "outputs": [
    {
     "name": "stdout",
     "output_type": "stream",
     "text": [
      "['Pikachu', 'Bulbasuar', 'Dragonite']\n"
     ]
    }
   ],
   "source": [
    "print(pokemon[::2])"
   ]
  },
  {
   "cell_type": "code",
   "execution_count": 21,
   "id": "f5accaec-6677-4679-8d2f-2206ce001128",
   "metadata": {},
   "outputs": [
    {
     "name": "stdout",
     "output_type": "stream",
     "text": [
      "Onyx\n"
     ]
    }
   ],
   "source": [
    "last_pokemon = pokemon[-1]\n",
    "print(last_pokemon)"
   ]
  },
  {
   "cell_type": "code",
   "execution_count": 27,
   "id": "102629a5-18cb-46c9-a838-c9107d835107",
   "metadata": {},
   "outputs": [
    {
     "ename": "ValueError",
     "evalue": "'Squirtle' is not in list",
     "output_type": "error",
     "traceback": [
      "\u001b[0;31m---------------------------------------------------------------------------\u001b[0m",
      "\u001b[0;31mValueError\u001b[0m                                Traceback (most recent call last)",
      "\u001b[0;32m/var/folders/h0/ckkxq40s70vc524w2v0_myw00000gp/T/ipykernel_20689/959515059.py\u001b[0m in \u001b[0;36m<module>\u001b[0;34m\u001b[0m\n\u001b[0;32m----> 1\u001b[0;31m \u001b[0mprint\u001b[0m\u001b[0;34m(\u001b[0m\u001b[0mpokemon\u001b[0m\u001b[0;34m.\u001b[0m\u001b[0mindex\u001b[0m\u001b[0;34m(\u001b[0m\u001b[0;34m\"Squirtle\"\u001b[0m\u001b[0;34m)\u001b[0m\u001b[0;34m)\u001b[0m\u001b[0;34m\u001b[0m\u001b[0;34m\u001b[0m\u001b[0m\n\u001b[0m",
      "\u001b[0;31mValueError\u001b[0m: 'Squirtle' is not in list"
     ]
    }
   ],
   "source": [
    "print(pokemon.index(\"Squirtle\"))"
   ]
  },
  {
   "cell_type": "code",
   "execution_count": 28,
   "id": "8e02fa4f-46c6-475a-9d33-b621d3084fb0",
   "metadata": {},
   "outputs": [],
   "source": [
    "pokemon.append(\"Squirtle\")"
   ]
  },
  {
   "cell_type": "code",
   "execution_count": 29,
   "id": "9ba0e98c-8da8-4eb7-b891-e1e891ed169d",
   "metadata": {},
   "outputs": [
    {
     "name": "stdout",
     "output_type": "stream",
     "text": [
      "['Pikachu', 'Charizard', 'Bulbasuar', 'Gyardos', 'Dragonite', 'Onyx', 'Squirtle']\n"
     ]
    }
   ],
   "source": [
    "print(pokemon)"
   ]
  },
  {
   "cell_type": "code",
   "execution_count": 30,
   "id": "ed9a96c4-5d9a-416f-a7f9-a202d1d532fa",
   "metadata": {},
   "outputs": [],
   "source": [
    "pokemon.remove(\"Gyardos\")"
   ]
  },
  {
   "cell_type": "code",
   "execution_count": 31,
   "id": "83eabc32-525c-4092-a976-ea420038730a",
   "metadata": {},
   "outputs": [
    {
     "name": "stdout",
     "output_type": "stream",
     "text": [
      "['Pikachu', 'Charizard', 'Bulbasuar', 'Dragonite', 'Onyx', 'Squirtle']\n"
     ]
    }
   ],
   "source": [
    "print(pokemon)"
   ]
  },
  {
   "cell_type": "code",
   "execution_count": 34,
   "id": "c1bd58ed-a073-4c3f-8c59-bff5cd69b8e2",
   "metadata": {},
   "outputs": [
    {
     "name": "stdout",
     "output_type": "stream",
     "text": [
      "['Pikachu', 'Charizard', 'Dragonite', 'Onyx', 'Squirtle']\n"
     ]
    }
   ],
   "source": [
    "#find index of pokemon you want to remove\n",
    "bulbasaur_index = pokemon.index(\"Bulbasuar\")\n",
    "#remove pokemon from list with .pop\n",
    "pokemon.pop(bulbasaur_index)\n",
    "#print to confirm pokemon is gone\n",
    "print(pokemon)"
   ]
  },
  {
   "cell_type": "code",
   "execution_count": 35,
   "id": "eefc11c9-c678-453d-887a-3c203f69bed2",
   "metadata": {},
   "outputs": [
    {
     "name": "stdout",
     "output_type": "stream",
     "text": [
      "5\n"
     ]
    }
   ],
   "source": [
    "print(len(pokemon))"
   ]
  },
  {
   "cell_type": "code",
   "execution_count": null,
   "id": "4ead6051-2307-4296-b789-a61cdb48bafc",
   "metadata": {},
   "outputs": [],
   "source": []
  }
 ],
 "metadata": {
  "kernelspec": {
   "display_name": "Python 3 (ipykernel)",
   "language": "python",
   "name": "python3"
  },
  "language_info": {
   "codemirror_mode": {
    "name": "ipython",
    "version": 3
   },
   "file_extension": ".py",
   "mimetype": "text/x-python",
   "name": "python",
   "nbconvert_exporter": "python",
   "pygments_lexer": "ipython3",
   "version": "3.9.7"
  }
 },
 "nbformat": 4,
 "nbformat_minor": 5
}
