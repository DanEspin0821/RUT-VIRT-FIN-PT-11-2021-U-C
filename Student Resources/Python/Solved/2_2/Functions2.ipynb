{
 "cells": [
  {
   "cell_type": "code",
   "execution_count": 2,
   "id": "0ebb5b7d-1398-47b9-abd0-0f53e7b64bce",
   "metadata": {},
   "outputs": [],
   "source": [
    "#Determine the Compound Annual Growth Rate for an investment\n",
    "\n",
    "\n",
    "# Declare a variable beginning_balance as a float\n",
    "beginning_balance = 29000.00\n",
    "\n",
    "# Declare a variable ending_balance as float\n",
    "ending_balance = 45000.10\n",
    "\n",
    "# Declare a variable years as an int\n",
    "years = 1.0"
   ]
  },
  {
   "cell_type": "code",
   "execution_count": 9,
   "id": "308a7546-d8ce-4a8f-ace5-a211f4948e09",
   "metadata": {},
   "outputs": [],
   "source": [
    "# Define a function called calculate_compound_growth_rate with three arguments: beginning_balance, ending_balance, years. Function should output growth_rate.\n",
    "def calculate_compound_growth_rate(beginning_balance, ending_balance, years):\n",
    "    growth_rate = (ending_balance / beginning_balance)**(1/years) - 1\n",
    "    return growth_rate"
   ]
  },
  {
   "cell_type": "code",
   "execution_count": 10,
   "id": "bc87af21-1080-46de-9796-07d9350809d9",
   "metadata": {},
   "outputs": [
    {
     "name": "stdout",
     "output_type": "stream",
     "text": [
      "0.04444212346194787\n"
     ]
    }
   ],
   "source": [
    "# Call calculate_compound_growth_rate using beginning_balance, ending_balance, and years. Capture as year_one_growth.\n",
    "year_one_growth = calculate_compound_growth_rate(beginning_balance, ending_balance, years)\n",
    "print(year_one_growth)"
   ]
  },
  {
   "cell_type": "code",
   "execution_count": 16,
   "id": "2e00aea3-ec3e-40d0-bddf-9e6d53da3b60",
   "metadata": {},
   "outputs": [
    {
     "name": "stdout",
     "output_type": "stream",
     "text": [
      "0.04444212346194787\n"
     ]
    }
   ],
   "source": [
    "# Update beginning_balance and ending balance for year two, and then execute calculate_compound_growth_rate and capture as year_two_growth.\n",
    "beginning_balance = 45000.10\n",
    "ending_balance = 47000.00\n",
    "year_two_growth = calculate_compound_growth_rate(beginning_balance, ending_balance, years)\n",
    "print(year_two_growth)"
   ]
  },
  {
   "cell_type": "code",
   "execution_count": 17,
   "id": "0e0c5ef6-f318-4f2b-b549-88914db0a242",
   "metadata": {},
   "outputs": [
    {
     "name": "stdout",
     "output_type": "stream",
     "text": [
      "0.04106382978723411\n"
     ]
    }
   ],
   "source": [
    "# Update beginning_balance and ending balance for year three, and then execute calculate_compound_growth_rate and capture as year_three_growth.\n",
    "beginning_balance = 47000.00\n",
    "ending_balance = 48930.00\n",
    "year_three_growth = calculate_compound_growth_rate(beginning_balance, ending_balance, years)\n",
    "print(year_three_growth)"
   ]
  },
  {
   "cell_type": "code",
   "execution_count": 14,
   "id": "6b6837a8-012d-406d-a7e7-bfcf7df667fb",
   "metadata": {},
   "outputs": [],
   "source": [
    "# Use round function to round variables\n",
    "year_one_growth_rnd = round(year_one_growth,2)\n",
    "year_two_growth_rnd = round(year_two_growth,2)\n",
    "year_three_growth_rnd = round(year_three_growth,2)"
   ]
  },
  {
   "cell_type": "code",
   "execution_count": 15,
   "id": "d3192416-4c31-4d50-945e-e1458d69ecec",
   "metadata": {},
   "outputs": [
    {
     "name": "stdout",
     "output_type": "stream",
     "text": [
      "Compound Annual Growth Rate for 2016: 0.04%\n",
      "Compound Annual Growth Rate for 2016: 0.04%\n",
      "Compound Annual Growth Rate for 2016: 0.04%\n"
     ]
    }
   ],
   "source": [
    "print(f\"Compound Annual Growth Rate for 2016: {year_one_growth_rnd}%\")\n",
    "print(f\"Compound Annual Growth Rate for 2016: {year_two_growth_rnd}%\")\n",
    "print(f\"Compound Annual Growth Rate for 2016: {year_three_growth_rnd}%\")\n"
   ]
  }
 ],
 "metadata": {
  "kernelspec": {
   "display_name": "Python 3 (ipykernel)",
   "language": "python",
   "name": "python3"
  },
  "language_info": {
   "codemirror_mode": {
    "name": "ipython",
    "version": 3
   },
   "file_extension": ".py",
   "mimetype": "text/x-python",
   "name": "python",
   "nbconvert_exporter": "python",
   "pygments_lexer": "ipython3",
   "version": "3.9.7"
  }
 },
 "nbformat": 4,
 "nbformat_minor": 5
}
