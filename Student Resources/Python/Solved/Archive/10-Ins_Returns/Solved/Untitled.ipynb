{
 "cells": [
  {
   "cell_type": "code",
   "execution_count": 3,
   "id": "65de3821-265e-4817-81da-f6c0d6f114e8",
   "metadata": {},
   "outputs": [
    {
     "name": "stdout",
     "output_type": "stream",
     "text": [
      "0.18712158435479603\n"
     ]
    }
   ],
   "source": [
    "print(((1884.660034-1881.140015)/1881.140015)*100)"
   ]
  },
  {
   "cell_type": "code",
   "execution_count": null,
   "id": "ccdd22ab-1897-4df7-a12d-06b59126c7ef",
   "metadata": {},
   "outputs": [],
   "source": []
  }
 ],
 "metadata": {
  "kernelspec": {
   "display_name": "Python 3 (ipykernel)",
   "language": "python",
   "name": "python3"
  },
  "language_info": {
   "codemirror_mode": {
    "name": "ipython",
    "version": 3
   },
   "file_extension": ".py",
   "mimetype": "text/x-python",
   "name": "python",
   "nbconvert_exporter": "python",
   "pygments_lexer": "ipython3",
   "version": "3.9.7"
  }
 },
 "nbformat": 4,
 "nbformat_minor": 5
}
