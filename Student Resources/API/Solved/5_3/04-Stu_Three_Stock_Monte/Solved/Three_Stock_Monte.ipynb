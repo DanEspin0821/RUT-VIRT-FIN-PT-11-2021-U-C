version https://git-lfs.github.com/spec/v1
oid sha256:bb573814a42b4e24ca3e7015bf0090b93e7e627f4e7e9f6b0a7184f91f031f13
size 634697
