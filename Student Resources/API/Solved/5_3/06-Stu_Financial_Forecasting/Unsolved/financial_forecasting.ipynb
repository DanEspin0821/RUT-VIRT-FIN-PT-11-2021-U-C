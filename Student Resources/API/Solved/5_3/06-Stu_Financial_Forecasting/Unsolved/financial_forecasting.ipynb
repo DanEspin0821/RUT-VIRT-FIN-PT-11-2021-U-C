version https://git-lfs.github.com/spec/v1
oid sha256:87500e257dd75b5cd9cc35a63d80daadf7010e9ccf2457be840a384521186354
size 82532
